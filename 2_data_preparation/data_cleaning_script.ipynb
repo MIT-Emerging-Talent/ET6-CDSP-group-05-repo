{
 "cells": [
  {
   "cell_type": "code",
   "execution_count": 5,
   "id": "5e8d9658",
   "metadata": {},
   "outputs": [],
   "source": [
    "# 📊 Data Cleaning Script\n",
    "# This script loads, cleans, and merges multiple datasets related to math learning outcomes\n",
    "# and contextual indicators during the COVID-19 pandemic."
   ]
  },
  {
   "cell_type": "code",
   "execution_count": 6,
   "id": "415db7fc",
   "metadata": {},
   "outputs": [],
   "source": [
    "import pandas as pd\n",
    "import pycountry\n",
    "import os"
   ]
  },
  {
   "cell_type": "code",
   "execution_count": 7,
   "id": "111a93b5",
   "metadata": {},
   "outputs": [],
   "source": [
    "# -----------------------------\n",
    "# Step 1: Load and clean Math Proficiency data\n",
    "# -----------------------------\n",
    "df_math = pd.read_csv(\n",
    "    \"../1_datasets/raw_data/math_proficiency/minimum_proficiency.raw.csv\"\n",
    ")\n",
    "\n",
    "df_math = df_math[[\"geoUnit\", \"year\", \"value\"]]\n",
    "df_math = df_math.rename(\n",
    "    columns={\"geoUnit\": \"ISO\", \"year\": \"Year\", \"value\": \"math_proficiency\"}\n",
    ")\n",
    "df_math = df_math[df_math[\"Year\"].isin([2019, 2023])]"
   ]
  },
  {
   "cell_type": "code",
   "execution_count": 8,
   "id": "ca5a926a",
   "metadata": {},
   "outputs": [],
   "source": [
    "# Filter only valid countries by ISO code\n",
    "valid_iso = set([c.alpha_3 for c in pycountry.countries])\n",
    "df_math = df_math[df_math[\"ISO\"].isin(valid_iso)].copy()"
   ]
  },
  {
   "cell_type": "code",
   "execution_count": 9,
   "id": "717be86c",
   "metadata": {},
   "outputs": [],
   "source": [
    "# -----------------------------\n",
    "# Step 2: Load and clean Completion Rate\n",
    "# -----------------------------\n",
    "df_completion = pd.read_csv(\n",
    "    \"../1_datasets/raw_data/completion_rate/completion_rate.raw.csv\"\n",
    ")\n",
    "df_completion = df_completion[[\"geoUnit\", \"year\", \"value\"]]\n",
    "df_completion = df_completion.rename(\n",
    "    columns={\"geoUnit\": \"ISO\", \"year\": \"Year\", \"value\": \"completion_rate\"}\n",
    ")\n",
    "df_completion = df_completion[df_completion[\"Year\"].isin([2019, 2020, 2023])]"
   ]
  },
  {
   "cell_type": "code",
   "execution_count": 10,
   "id": "3638bc9d",
   "metadata": {},
   "outputs": [],
   "source": [
    "# -----------------------------\n",
    "# Step 3: Load and clean Government Spending\n",
    "# -----------------------------\n",
    "df_spending = pd.read_csv(\n",
    "    \"../1_datasets/raw_data/gov_edu_spending/gov_expending.raw.csv\"\n",
    ")\n",
    "df_spending = df_spending[[\"geoUnit\", \"year\", \"value\"]]\n",
    "df_spending = df_spending.rename(\n",
    "    columns={\"geoUnit\": \"ISO\", \"year\": \"Year\", \"value\": \"gov_edu_spending\"}\n",
    ")\n",
    "df_spending = df_spending[df_spending[\"Year\"].isin([2019, 2020, 2023])]"
   ]
  },
  {
   "cell_type": "code",
   "execution_count": 11,
   "id": "fcc797d7",
   "metadata": {},
   "outputs": [],
   "source": [
    "# -----------------------------\n",
    "# Step 4: Load and clean Out-of-School Rate\n",
    "# -----------------------------\n",
    "df_out_school = pd.read_csv(\n",
    "    \"../1_datasets/raw_data/out_of_school_rate/out_of_school.raw.csv\"\n",
    ")\n",
    "df_out_school = df_out_school[[\"geoUnit\", \"year\", \"value\"]]\n",
    "df_out_school = df_out_school.rename(\n",
    "    columns={\"geoUnit\": \"ISO\", \"year\": \"Year\", \"value\": \"out_of_school_rate\"}\n",
    ")\n",
    "df_out_school = df_out_school[df_out_school[\"Year\"].isin([2019, 2020, 2023])]"
   ]
  },
  {
   "cell_type": "code",
   "execution_count": 12,
   "id": "19183e42",
   "metadata": {},
   "outputs": [],
   "source": [
    "# -----------------------------\n",
    "# Step 5: Load and clean Pupil-to-Trained Teacher Ratio\n",
    "# -----------------------------\n",
    "df_teacher = pd.read_csv(\n",
    "    \"../1_datasets/raw_data/trained_teacher_ratio/pupil_teacher_ratio.raw.csv\"\n",
    ")\n",
    "df_teacher = df_teacher[[\"geoUnit\", \"year\", \"value\"]]\n",
    "df_teacher = df_teacher.rename(\n",
    "    columns={\"geoUnit\": \"ISO\", \"year\": \"Year\", \"value\": \"trained_teacher_ratio\"}\n",
    ")\n",
    "df_teacher = df_teacher[df_teacher[\"Year\"].isin([2019, 2020, 2023])]\n",
    "df_teacher = df_teacher[df_teacher[\"ISO\"].isin(valid_iso)].copy()"
   ]
  },
  {
   "cell_type": "code",
   "execution_count": 13,
   "id": "930f741a",
   "metadata": {},
   "outputs": [],
   "source": [
    "# -----------------------------\n",
    "# Step 6: Load and clean Digital Connectivity data\n",
    "# -----------------------------\n",
    "df_digital = pd.read_excel(\n",
    "    \"../1_datasets/raw_data/digital_connectivity/School-Age-Digital-Connectivity.raw.xlsx\",\n",
    "    sheet_name=\"Primary\",\n",
    ")\n",
    "df_digital = df_digital[df_digital[\"ISO3\"].notna()]\n",
    "df_digital = df_digital[[\"ISO3\", \"Total\"]]\n",
    "df_digital = df_digital.rename(columns={\"ISO3\": \"ISO\", \"Total\": \"digital_connectivity\"})"
   ]
  },
  {
   "cell_type": "code",
   "execution_count": 14,
   "id": "f717eb22",
   "metadata": {},
   "outputs": [],
   "source": [
    "# -----------------------------\n",
    "# Step 7: Load and clean School Closure Duration data\n",
    "# -----------------------------\n",
    "df_closure = pd.read_excel(\n",
    "    \"../1_datasets/raw_data/school_closure/duration-of-school-closures.raw.xlsx\",\n",
    "    sheet_name=\"database\",\n",
    ")\n",
    "df_closure = df_closure[[\"Country\", \"Days fully closed\", \"Days partially closed\"]]\n",
    "df_closure[\"school_closure_days\"] = df_closure[\n",
    "    [\"Days fully closed\", \"Days partially closed\"]\n",
    "].sum(axis=1)"
   ]
  },
  {
   "cell_type": "code",
   "execution_count": 15,
   "id": "c9337d94",
   "metadata": {},
   "outputs": [],
   "source": [
    "# Fix country names to match pycountry\n",
    "manual_fixes = {\n",
    "    \"Bolivia (Plurinational State of)\": \"Bolivia\",\n",
    "    \"Iran (Islamic Republic of)\": \"Iran\",\n",
    "    \"Republic of Korea\": \"South Korea\",\n",
    "    \"Lao PDR\": \"Laos\",\n",
    "    \"Palestine\": \"Palestine, State of\",\n",
    "    \"Viet Nam\": \"Vietnam\",\n",
    "    \"Russian Federation\": \"Russia\",\n",
    "    \"Syrian Arab Republic\": \"Syria\",\n",
    "    \"Venezuela (Bolivarian Republic of)\": \"Venezuela\",\n",
    "    \"United States of America\": \"United States\",\n",
    "    \"Czechia\": \"Czech Republic\",\n",
    "    \"Türkiye\": \"Turkey\",\n",
    "}\n",
    "df_closure[\"Country_fixed\"] = df_closure[\"Country\"].str.strip().replace(manual_fixes)"
   ]
  },
  {
   "cell_type": "code",
   "execution_count": 16,
   "id": "cb142b1c",
   "metadata": {},
   "outputs": [],
   "source": [
    "# Map country names to ISO codes\n",
    "def get_iso(name):\n",
    "    try:\n",
    "        return pycountry.countries.lookup(name).alpha_3\n",
    "    except LookupError:\n",
    "        return None"
   ]
  },
  {
   "cell_type": "code",
   "execution_count": 17,
   "id": "02c74c99",
   "metadata": {},
   "outputs": [],
   "source": [
    "df_closure[\"ISO\"] = df_closure[\"Country_fixed\"].apply(get_iso)\n",
    "df_closure_cleaned = df_closure[[\"ISO\", \"school_closure_days\"]].dropna()"
   ]
  },
  {
   "cell_type": "code",
   "execution_count": 18,
   "id": "cf1ac6ed",
   "metadata": {},
   "outputs": [],
   "source": [
    "# -----------------------------\n",
    "# Step 8: Load World Bank Income Classification\n",
    "# -----------------------------\n",
    "df_income = pd.read_csv(\n",
    "    \"../1_datasets/raw_data/worldbank_classification/worldbank_classification.csv\"\n",
    ")\n",
    "df_income = df_income[[\"Code\", \"Income group\"]]\n",
    "df_income = df_income.rename(columns={\"Code\": \"ISO\", \"Income group\": \"income_group\"})"
   ]
  },
  {
   "cell_type": "code",
   "execution_count": 19,
   "id": "81094e54",
   "metadata": {},
   "outputs": [],
   "source": [
    "# -----------------------------\n",
    "# Step 9: Merge all datasets\n",
    "# -----------------------------\n",
    "df_final = df_math.copy()\n",
    "df_final = df_final.merge(df_completion, on=[\"ISO\", \"Year\"], how=\"left\")\n",
    "df_final = df_final.merge(df_spending, on=[\"ISO\", \"Year\"], how=\"left\")\n",
    "df_final = df_final.merge(df_out_school, on=[\"ISO\", \"Year\"], how=\"left\")\n",
    "df_final = df_final.merge(df_teacher, on=[\"ISO\", \"Year\"], how=\"left\")\n",
    "df_final = df_final.merge(df_digital, on=\"ISO\", how=\"left\")\n",
    "df_final = df_final.merge(df_closure_cleaned, on=\"ISO\", how=\"left\")\n",
    "df_final = df_final.merge(df_income, on=\"ISO\", how=\"left\")"
   ]
  },
  {
   "cell_type": "code",
   "execution_count": 20,
   "id": "5041e868",
   "metadata": {},
   "outputs": [],
   "source": [
    "# Keep only countries with valid income group classification\n",
    "df_final_cleaned = df_final[df_final[\"income_group\"].notna()].copy()"
   ]
  },
  {
   "cell_type": "code",
   "execution_count": 21,
   "id": "db98dd41",
   "metadata": {},
   "outputs": [],
   "source": [
    "# Round numerical columns to 2 decimal places\n",
    "df_final_cleaned = df_final_cleaned.round(2)"
   ]
  },
  {
   "cell_type": "code",
   "execution_count": 22,
   "id": "37868543",
   "metadata": {},
   "outputs": [],
   "source": [
    "# -----------------------------\n",
    "# Step 10: Save cleaned datasets\n",
    "# -----------------------------\n",
    "os.makedirs(\"../1_datasets/cleaned_data\", exist_ok=True)\n",
    "df_math.to_csv(\"../1_datasets/cleaned_data/math_proficiency.cleaned.csv\", index=False)\n",
    "df_completion.to_csv(\n",
    "    \"../1_datasets/cleaned_data/completion_rate.cleaned.csv\", index=False\n",
    ")\n",
    "df_spending.to_csv(\"../1_datasets/cleaned_data/gov_spending.cleaned.csv\", index=False)\n",
    "df_out_school.to_csv(\n",
    "    \"../1_datasets/cleaned_data/out_of_school.cleaned.csv\", index=False\n",
    ")\n",
    "df_teacher.to_csv(\n",
    "    \"../1_datasets/cleaned_data/trained_teacher_ratio.cleaned.csv\", index=False\n",
    ")\n",
    "df_digital.to_csv(\n",
    "    \"../1_datasets/cleaned_data/digital_connectivity.cleaned.csv\", index=False\n",
    ")\n",
    "df_closure_cleaned.to_csv(\n",
    "    \"../1_datasets/cleaned_data/school_closure.cleaned.csv\", index=False\n",
    ")\n",
    "df_final_cleaned.to_csv(\"../1_datasets/final_dataset.csv\", index=False)"
   ]
  }
 ],
 "metadata": {
  "kernelspec": {
   "display_name": "base",
   "language": "python",
   "name": "python3"
  },
  "language_info": {
   "codemirror_mode": {
    "name": "ipython",
    "version": 3
   },
   "file_extension": ".py",
   "mimetype": "text/x-python",
   "name": "python",
   "nbconvert_exporter": "python",
   "pygments_lexer": "ipython3",
   "version": "3.12.7"
  }
 },
 "nbformat": 4,
 "nbformat_minor": 5
}
